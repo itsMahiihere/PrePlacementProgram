{
 "cells": [
  {
   "cell_type": "code",
   "execution_count": 2,
   "id": "eb11ae77-4390-4798-95e9-c972144710e5",
   "metadata": {},
   "outputs": [
    {
     "data": {
      "text/plain": [
       "[0, 1, 2, 3, 4]"
      ]
     },
     "execution_count": 2,
     "metadata": {},
     "output_type": "execute_result"
    }
   ],
   "source": [
    "\"\"\"\n",
    "💡 **Question 1**\n",
    "A permutation perm of n + 1 integers of all the integers in the range [0, n] can be represented as a string s of length n where:\n",
    "- s[i] == 'I' if perm[i] < perm[i + 1], and\n",
    "- s[i] == 'D' if perm[i] > perm[i + 1].\n",
    "Given a string s, reconstruct the permutation perm and return it. If there are multiple valid permutations perm, return **any of them**.\n",
    "\n",
    "**Example 1:**\n",
    "**Input:** s = \"IDID\"\n",
    "**Output:**\n",
    "[0,4,1,3,2]\n",
    "\n",
    "\"\"\"\n",
    "def reconstruct_permutation(s):\n",
    "  n = len(s)\n",
    "  perm = [0] * (n + 1)\n",
    "  for i in range(n):\n",
    "    if s[i] == 'I':\n",
    "      perm[i] = i\n",
    "    else:\n",
    "      perm[i] = i + 1\n",
    "  for i in range(n - 1, -1, -1):\n",
    "    perm[i + 1] = perm[i] + (perm[i] < perm[i + 1])\n",
    "  return perm\n",
    "reconstruct_permutation(\"IDID\")\n",
    "\n"
   ]
  },
  {
   "cell_type": "code",
   "execution_count": 4,
   "id": "c6ad2bf5-4c70-45ef-a9fe-d92bc65649cb",
   "metadata": {},
   "outputs": [
    {
     "data": {
      "text/plain": [
       "True"
      ]
     },
     "execution_count": 4,
     "metadata": {},
     "output_type": "execute_result"
    }
   ],
   "source": [
    "\"\"\"\n",
    "<aside>\n",
    "💡 **Question 2**\n",
    "You are given an m x n integer matrix matrix with the following two properties:\n",
    "- Each row is sorted in non-decreasing order.\n",
    "- The first integer of each row is greater than the last integer of the previous row.\n",
    "Given an integer target, return true *if* target *is in* matrix *or* false *otherwise*.\n",
    "You must write a solution in O(log(m * n)) time complexity.\n",
    "**Example 1:**\n",
    "**Input:** matrix = [[1,3,5,7],[10,11,16,20],[23,30,34,60]], target = 3\n",
    "**Output:** true\n",
    "\n",
    "\"\"\"\n",
    "def search_matrix(matrix, target):\n",
    "  m = len(matrix)\n",
    "  n = len(matrix[0])\n",
    "  row = 0\n",
    "  col = n - 1\n",
    "  while row < m and col >= 0:\n",
    "    if matrix[row][col] == target:\n",
    "      return True\n",
    "    elif matrix[row][col] < target:\n",
    "      row += 1\n",
    "    else:\n",
    "      col -= 1\n",
    "  return False\n",
    "search_matrix([[1,3,5,7],[10,11,16,20],[23,30,34,60]], 3)\n"
   ]
  },
  {
   "cell_type": "code",
   "execution_count": 5,
   "id": "23c442c0-d27e-4008-a94c-14d78c24bc75",
   "metadata": {},
   "outputs": [
    {
     "data": {
      "text/plain": [
       "False"
      ]
     },
     "execution_count": 5,
     "metadata": {},
     "output_type": "execute_result"
    }
   ],
   "source": [
    "\"\"\"\n",
    "💡 **Question 3**\n",
    "Given an array of integers arr, return *true if and only if it is a valid mountain array*.\n",
    "\n",
    "Recall that arr is a mountain array if and only if:\n",
    "\n",
    "- arr.length >= 3\n",
    "- There exists some i with 0 < i < arr.length - 1 such that:\n",
    "    - arr[0] < arr[1] < ... < arr[i - 1] < arr[i]\n",
    "    - arr[i] > arr[i + 1] > ... > arr[arr.length - 1]\n",
    "**Example 1:**\n",
    "**Input:** arr = [2,1]\n",
    "**Output:**\n",
    "false\n",
    "\"\"\"\n",
    "def is_mountain_array(arr):\n",
    "  n = len(arr)\n",
    "  if n < 3:\n",
    "    return False\n",
    "  increasing = True\n",
    "  for i in range(1, n):\n",
    "    if arr[i] < arr[i - 1]:\n",
    "      increasing = False\n",
    "      break\n",
    "  if not increasing:\n",
    "    return False\n",
    "\n",
    "  decreasing = True\n",
    "  for i in range(n - 2, 0, -1):\n",
    "    if arr[i] < arr[i - 1]:\n",
    "      decreasing = False\n",
    "      break\n",
    "  return decreasing\n",
    "is_mountain_array([2, 1])\n",
    "\n"
   ]
  },
  {
   "cell_type": "code",
   "execution_count": 6,
   "id": "2f271fcf-a3fa-43ce-85d6-abd3f3255618",
   "metadata": {},
   "outputs": [
    {
     "data": {
      "text/plain": [
       "0"
      ]
     },
     "execution_count": 6,
     "metadata": {},
     "output_type": "execute_result"
    }
   ],
   "source": [
    "\"\"\"\n",
    "💡 **Question 4**\n",
    "\n",
    "Given a binary array nums, return *the maximum length of a contiguous subarray with an equal number of* 0 *and* 1.\n",
    "\n",
    "**Example 1:**\n",
    "\n",
    "**Input:** nums = [0,1]\n",
    "\n",
    "**Output:** 2\n",
    "\n",
    "**Explanation:**\n",
    "\n",
    "[0, 1] is the longest contiguous subarray with an equal number of 0 and 1.\n",
    "\n",
    "\"\"\"\n",
    "def max_len_equal_zero_one(nums):\n",
    "  n = len(nums)\n",
    "  count_zero = 0\n",
    "  count_one = 0\n",
    "  max_len = 0\n",
    "  for i in range(n):\n",
    "    if nums[i] == 0:\n",
    "      count_zero += 1\n",
    "    else:\n",
    "      count_one += 1\n",
    "\n",
    "    if count_zero == count_one:\n",
    "      max_len = max(max_len, count_zero + count_one)\n",
    "    elif count_zero > count_one:\n",
    "      count_zero = 0\n",
    "    else:\n",
    "      count_one = 0\n",
    "  return max_len\n",
    "max_len_equal_zero_one([0, 1])\n",
    "\n"
   ]
  },
  {
   "cell_type": "code",
   "execution_count": 10,
   "id": "95823980-b6cc-4492-ac5c-0bc9ca357ccd",
   "metadata": {},
   "outputs": [
    {
     "data": {
      "text/plain": [
       "20"
      ]
     },
     "execution_count": 10,
     "metadata": {},
     "output_type": "execute_result"
    }
   ],
   "source": [
    "\"\"\"\n",
    "<aside>\n",
    "💡 **Question 5**\n",
    "The **product sum** of two equal-length arrays a and b is equal to the sum of a[i] * b[i] for all 0 <= i < a.length (**0-indexed**).\n",
    "- For example, if a = [1,2,3,4] and b = [5,2,3,1], the **product sum** would be 1*5 + 2*2 + 3*3 + 4*1 = 22.\n",
    "Given two arrays nums1 and nums2 of length n, return *the **minimum product sum** if you are allowed to **rearrange** the **order** of the elements in* nums1.\n",
    "**Example 1:**\n",
    "**Input:** nums1 = [5,3,4,2], nums2 = [4,2,2,5]\n",
    "**Output:** 40\n",
    "**Explanation:**\n",
    "We can rearrange nums1 to become [3,5,4,2]. The product sum of [3,5,4,2] and [4,2,2,5] is 3*4 + 5*2 + 4*2 + 2*5 = 40.\n",
    "\n",
    "\"\"\"\n",
    "def min_product_sum(nums1, nums2):\n",
    "  \n",
    "  n = len(nums1)\n",
    "  dp = [float('inf')] * n\n",
    "  dp[0] = nums1[0] * nums2[0]\n",
    "\n",
    "  for i in range(1, n):\n",
    "    dp[i] = dp[i - 1] + nums1[i] * nums2[i]\n",
    "    for j in range(0, i):\n",
    "      dp[i] = min(dp[i], dp[j] + nums1[j] * nums2[i])\n",
    "\n",
    "  return min(dp)\n",
    "min_product_sum([5,3,4,2], [4,2,2,5])"
   ]
  },
  {
   "cell_type": "code",
   "execution_count": 11,
   "id": "6c20b57f-e764-4bee-be6b-0a16e7fe2598",
   "metadata": {},
   "outputs": [
    {
     "data": {
      "text/plain": [
       "[2, 6, 8]"
      ]
     },
     "execution_count": 11,
     "metadata": {},
     "output_type": "execute_result"
    }
   ],
   "source": [
    "\"\"\"\n",
    "<aside>\n",
    "💡 **Question 6**\n",
    "\n",
    "An integer array original is transformed into a **doubled** array changed by appending **twice the value** of every element in original, and then randomly **shuffling** the resulting array.\n",
    "\n",
    "Given an array changed, return original *if* changed *is a **doubled** array. If* changed *is not a **doubled** array, return an empty array. The elements in* original *may be returned in **any** order*.\n",
    "\n",
    "**Example 1:**\n",
    "\n",
    "**Input:** changed = [1,3,4,2,6,8]\n",
    "\n",
    "**Output:** [1,3,4]\n",
    "\n",
    "**Explanation:** One possible original array could be [1,3,4]:\n",
    "\n",
    "- Twice the value of 1 is 1 * 2 = 2.\n",
    "- Twice the value of 3 is 3 * 2 = 6.\n",
    "- Twice the value of 4 is 4 * 2 = 8.\n",
    "\n",
    "Other original arrays could be [4,3,1] or [3,1,4].\n",
    "\n",
    "</aside>\n",
    "\"\"\"\n",
    "def find_original(changed):\n",
    " \n",
    "  n = len(changed)\n",
    "  doubled = set()\n",
    "  original = []\n",
    "  for i in range(n):\n",
    "    if changed[i] in doubled:\n",
    "      original.append(changed[i])\n",
    "      doubled.remove(changed[i])\n",
    "    else:\n",
    "      doubled.add(changed[i] * 2)\n",
    "\n",
    "  if len(original) == n / 2:\n",
    "    return original\n",
    "  else:\n",
    "    return []\n",
    "find_original([1,3,4,2,6,8])\n",
    "\n"
   ]
  },
  {
   "cell_type": "code",
   "execution_count": 18,
   "id": "937b9bcb-422f-48d5-869f-4f8ba47bfd2a",
   "metadata": {},
   "outputs": [
    {
     "data": {
      "text/plain": [
       "'\\n**Question 7**\\n\\nGiven a positive integer n, generate an n x n matrix filled with elements from 1 to n2 in spiral order.\\n\\n**Example 1:**\\n**Input:** n = 3\\n\\n**Output:** [[1,2,3],[8,9,4],[7,6,5]]\\n\\n'"
      ]
     },
     "execution_count": 18,
     "metadata": {},
     "output_type": "execute_result"
    }
   ],
   "source": [
    "\"\"\"\n",
    "**Question 7**\n",
    "\n",
    "Given a positive integer n, generate an n x n matrix filled with elements from 1 to n2 in spiral order.\n",
    "\n",
    "**Example 1:**\n",
    "**Input:** n = 3\n",
    "\n",
    "**Output:** [[1,2,3],[8,9,4],[7,6,5]]\n",
    "\n",
    "\"\"\"\n"
   ]
  },
  {
   "cell_type": "code",
   "execution_count": 19,
   "id": "b0198038-8c7c-4986-b45a-db2f66e3116a",
   "metadata": {},
   "outputs": [
    {
     "data": {
      "text/plain": [
       "[[7, 0, 0], [-7, 0, 0]]"
      ]
     },
     "execution_count": 19,
     "metadata": {},
     "output_type": "execute_result"
    }
   ],
   "source": [
    "\"\"\"\n",
    "Given two [sparse matrices](https://en.wikipedia.org/wiki/Sparse_matrix) mat1 of size m x k and mat2 of size k x n, return the result of mat1 x mat2. You may assume that multiplication is always possible.\n",
    "\n",
    "**Example 1:**\n",
    "**Input:** mat1 = [[1,0,0],[-1,0,3]], mat2 = [[7,0,0],[0,0,0],[0,0,1]]\n",
    "**Output:**[[7,0,0],[-7,0,3]]\n",
    "\"\"\"\n",
    "def multiply_sparse_matrices(mat1, mat2):\n",
    "  \n",
    "  m, k = len(mat1), len(mat2[0])\n",
    "  n = len(mat2)\n",
    "  result = [[0 for _ in range(n)] for _ in range(m)]\n",
    "\n",
    "  for i in range(m):\n",
    "    for j in range(k):\n",
    "      if mat1[i][j] != 0:\n",
    "        for k in range(n):\n",
    "          if mat2[j][k] != 0:\n",
    "            result[i][k] += mat1[i][j] * mat2[j][k]\n",
    "\n",
    "  return result\n",
    "multiply_sparse_matrices([[1,0,0],[-1,0,3]], [[7,0,0],[0,0,0],[0,0,1]])\n"
   ]
  },
  {
   "cell_type": "code",
   "execution_count": null,
   "id": "626af264-4896-497f-b950-f2ab648ce75b",
   "metadata": {},
   "outputs": [],
   "source": []
  }
 ],
 "metadata": {
  "kernelspec": {
   "display_name": "Python 3 (ipykernel)",
   "language": "python",
   "name": "python3"
  },
  "language_info": {
   "codemirror_mode": {
    "name": "ipython",
    "version": 3
   },
   "file_extension": ".py",
   "mimetype": "text/x-python",
   "name": "python",
   "nbconvert_exporter": "python",
   "pygments_lexer": "ipython3",
   "version": "3.10.8"
  }
 },
 "nbformat": 4,
 "nbformat_minor": 5
}
