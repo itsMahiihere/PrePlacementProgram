{
 "cells": [
  {
   "cell_type": "code",
   "execution_count": 1,
   "id": "b5514fa6-536e-4d23-8411-59142e92d800",
   "metadata": {},
   "outputs": [
    {
     "name": "stdout",
     "output_type": "stream",
     "text": [
      "[[1, 2], [3, 4]]\n"
     ]
    }
   ],
   "source": [
    "# Q1  Ans:- \n",
    "\n",
    "def construct2DArray(original, m, n):\n",
    "    if len(original) != m * n:\n",
    "        return []\n",
    "\n",
    "    result = [[0] * n for _ in range(m)]\n",
    "    row, col = 0, 0\n",
    "\n",
    "    for num in original:\n",
    "        if col == n:\n",
    "            row += 1\n",
    "            col = 0\n",
    "\n",
    "        result[row][col] = num\n",
    "        col += 1\n",
    "\n",
    "    return result\n",
    "\n",
    "original = [1, 2, 3, 4]\n",
    "m = 2\n",
    "n = 2\n",
    "result = construct2DArray(original, m, n)\n",
    "print(result)\n"
   ]
  },
  {
   "cell_type": "code",
   "execution_count": 2,
   "id": "8e82f418-9d1d-4057-b010-138923848011",
   "metadata": {},
   "outputs": [
    {
     "name": "stdout",
     "output_type": "stream",
     "text": [
      "2\n"
     ]
    }
   ],
   "source": [
    "# Q2 Ans:-\n",
    "\n",
    "def arrangeCoins(n):\n",
    "    left, right = 0, n\n",
    "\n",
    "    while left <= right:\n",
    "        mid = left + (right - left) // 2\n",
    "        coins_needed = (mid * (mid + 1)) // 2\n",
    "\n",
    "        if coins_needed <= n:\n",
    "            left = mid + 1\n",
    "        else:\n",
    "            right = mid - 1\n",
    "\n",
    "    return right\n",
    "\n",
    "n = 5\n",
    "result = arrangeCoins(n)\n",
    "print(result)\n"
   ]
  },
  {
   "cell_type": "code",
   "execution_count": 3,
   "id": "e11d8b9e-8a67-47f8-a798-033dbf71727b",
   "metadata": {},
   "outputs": [
    {
     "name": "stdout",
     "output_type": "stream",
     "text": [
      "[100, 16, 9, 1, 0]\n"
     ]
    }
   ],
   "source": [
    "# Q3 Ans:-\n",
    "\n",
    "def sortedSquares(nums):\n",
    "    left, right = 0, len(nums) - 1\n",
    "    result = []\n",
    "\n",
    "    while left <= right:\n",
    "        if abs(nums[left]) >= abs(nums[right]):\n",
    "            result.insert(0, nums[left] * nums[left])\n",
    "            left += 1\n",
    "        else:\n",
    "            result.insert(0, nums[right] * nums[right])\n",
    "            right -= 1\n",
    "\n",
    "    return result[::-1]\n",
    "\n",
    "nums = [-4, -1, 0, 3, 10]\n",
    "result = sortedSquares(nums)\n",
    "print(result)\n"
   ]
  },
  {
   "cell_type": "code",
   "execution_count": 4,
   "id": "0760973c-35d9-414c-8a53-84b93cad4163",
   "metadata": {},
   "outputs": [
    {
     "name": "stdout",
     "output_type": "stream",
     "text": [
      "[[1, 3], [4, 6]]\n"
     ]
    }
   ],
   "source": [
    "# Q4.\n",
    "\n",
    "def findDisappearedNumbers(nums1, nums2):\n",
    "    nums1_set = set(nums1)\n",
    "    nums2_set = set(nums2)\n",
    "    \n",
    "    diff1 = set()\n",
    "    diff2 = set()\n",
    "\n",
    "    for num in nums1_set:\n",
    "        if num not in nums2_set:\n",
    "            diff1.add(num)\n",
    "\n",
    "    for num in nums2_set:\n",
    "        if num not in nums1_set:\n",
    "            diff2.add(num)\n",
    "\n",
    "    return [list(diff1), list(diff2)]\n",
    "\n",
    "nums1 = [1, 2, 3]\n",
    "nums2 = [2, 4, 6]\n",
    "result = findDisappearedNumbers(nums1, nums2)\n",
    "print(result)\n"
   ]
  },
  {
   "cell_type": "code",
   "execution_count": 5,
   "id": "bfe207bd-068e-471d-a9a3-5affc8151906",
   "metadata": {},
   "outputs": [
    {
     "name": "stdout",
     "output_type": "stream",
     "text": [
      "2\n"
     ]
    }
   ],
   "source": [
    "# Q5. \n",
    "\n",
    "def findTheDistanceValue(arr1, arr2, d):\n",
    "    distance = 0\n",
    "\n",
    "    for num1 in arr1:\n",
    "        found = False\n",
    "        for num2 in arr2:\n",
    "            if abs(num1 - num2) <= d:\n",
    "                found = True\n",
    "                break\n",
    "        \n",
    "        if not found:\n",
    "            distance += 1\n",
    "\n",
    "    return distance\n",
    "\n",
    "arr1 = [4, 5, 8]\n",
    "arr2 = [10, 9, 1, 8]\n",
    "d = 2\n",
    "result = findTheDistanceValue(arr1, arr2, d)\n",
    "print(result)\n"
   ]
  },
  {
   "cell_type": "code",
   "execution_count": 6,
   "id": "72bdbfb4-5b1b-4255-8b38-dc8122170c4b",
   "metadata": {},
   "outputs": [
    {
     "name": "stdout",
     "output_type": "stream",
     "text": [
      "[2, 3]\n"
     ]
    }
   ],
   "source": [
    "# Q6 \n",
    "\n",
    "def findDuplicates(nums):\n",
    "    result = []\n",
    "\n",
    "    for num in nums:\n",
    "        index = abs(num)\n",
    "\n",
    "        if nums[index - 1] > 0:\n",
    "            nums[index - 1] *= -1\n",
    "        else:\n",
    "            result.append(index)\n",
    "\n",
    "    return result\n",
    "\n",
    "nums = [4, 3, 2, 7, 8, 2, 3, 1]\n",
    "result = findDuplicates(nums)\n",
    "print(result)\n"
   ]
  },
  {
   "cell_type": "code",
   "execution_count": null,
   "id": "2b8530ce-15cd-4502-8f2f-c3f08114ff43",
   "metadata": {},
   "outputs": [],
   "source": []
  }
 ],
 "metadata": {
  "kernelspec": {
   "display_name": "Python 3 (ipykernel)",
   "language": "python",
   "name": "python3"
  },
  "language_info": {
   "codemirror_mode": {
    "name": "ipython",
    "version": 3
   },
   "file_extension": ".py",
   "mimetype": "text/x-python",
   "name": "python",
   "nbconvert_exporter": "python",
   "pygments_lexer": "ipython3",
   "version": "3.10.8"
  }
 },
 "nbformat": 4,
 "nbformat_minor": 5
}
