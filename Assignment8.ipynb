{
 "cells": [
  {
   "cell_type": "code",
   "execution_count": 2,
   "id": "d599401a-24b1-4adb-ad3a-aedfe2d63b5d",
   "metadata": {},
   "outputs": [
    {
     "data": {
      "text/plain": [
       "313"
      ]
     },
     "execution_count": 2,
     "metadata": {},
     "output_type": "execute_result"
    }
   ],
   "source": [
    "\"\"\"\n",
    "<aside>\n",
    "💡 **Question 1**\n",
    "\n",
    "Given two strings s1 and s2, return *the lowest **ASCII** sum of deleted characters to make two strings equal*.\n",
    "\n",
    "**Example 1:**\n",
    "\n",
    "**Input:** s1 = \"sea\", s2 = \"eat\"\n",
    "\n",
    "**Output:** 231\n",
    "\n",
    "**Explanation:** Deleting \"s\" from \"sea\" adds the ASCII value of \"s\" (115) to the sum.\n",
    "\n",
    "Deleting \"t\" from \"eat\" adds 116 to the sum.\n",
    "\n",
    "At the end, both strings are equal, and 115 + 116 = 231 is the minimum sum possible to achieve this.\n",
    "\n",
    "</aside>\n",
    "\"\"\"\n",
    "\n",
    "def lowest_ascii_sum(s1, s2):\n",
    "  \n",
    "  n = len(s1)\n",
    "  m = len(s2)\n",
    "\n",
    "  table = [[0] * (m + 1) for _ in range(n + 1)]\n",
    "\n",
    "  for i in range(1, n + 1):\n",
    "    for j in range(1, m + 1):\n",
    "      table[i][j] = min(table[i - 1][j] + ord(s1[i - 1]),\n",
    "                         table[i][j - 1] + ord(s2[j - 1]))\n",
    "\n",
    "  return table[n][m]\n",
    "lowest_ascii_sum(\"sea\", \"eat\")"
   ]
  },
  {
   "cell_type": "code",
   "execution_count": 3,
   "id": "cfd93d2e-0587-4516-9352-920d2d03a969",
   "metadata": {},
   "outputs": [
    {
     "data": {
      "text/plain": [
       "True"
      ]
     },
     "execution_count": 3,
     "metadata": {},
     "output_type": "execute_result"
    }
   ],
   "source": [
    "\"\"\"\n",
    "<aside>\n",
    "💡 **Question 2**\n",
    "\n",
    "Given a string s containing only three types of characters: '(', ')' and '*', return true *if* s *is **valid***.\n",
    "\n",
    "The following rules define a **valid** string:\n",
    "\n",
    "- Any left parenthesis '(' must have a corresponding right parenthesis ')'.\n",
    "- Any right parenthesis ')' must have a corresponding left parenthesis '('.\n",
    "- Left parenthesis '(' must go before the corresponding right parenthesis ')'.\n",
    "- '*' could be treated as a single right parenthesis ')' or a single left parenthesis '(' or an empty string \"\".\n",
    "\n",
    "**Example 1:**\n",
    "\n",
    "**Input:** s = \"()\"\n",
    "\n",
    "**Output:**\n",
    "\n",
    "true\n",
    "\n",
    "</aside>\n",
    "\"\"\"\n",
    "def is_valid(s):\n",
    " \n",
    "  count_left = 0\n",
    "  count_right = 0\n",
    "\n",
    "  for c in s:\n",
    "    if c == '(':\n",
    "      count_left += 1\n",
    "    elif c == ')':\n",
    "      count_right += 1\n",
    "    elif c == '*':\n",
    "      if count_right > 0:\n",
    "        count_right -= 1\n",
    "      elif count_left > 0:\n",
    "        count_left -= 1\n",
    "      else:\n",
    "        return False\n",
    "\n",
    "  return count_left == count_right\n",
    "is_valid(\"()\")"
   ]
  },
  {
   "cell_type": "code",
   "execution_count": 5,
   "id": "bf0e2e5d-09c7-44b1-9b6d-175bc0552ae8",
   "metadata": {},
   "outputs": [
    {
     "data": {
      "text/plain": [
       "2"
      ]
     },
     "execution_count": 5,
     "metadata": {},
     "output_type": "execute_result"
    }
   ],
   "source": [
    "\"\"\"\n",
    "<aside>\n",
    "💡 **Question 3**\n",
    "\n",
    "Given two strings word1 and word2, return *the minimum number of **steps** required to make* word1 *and* word2 *the same*.\n",
    "\n",
    "In one **step**, you can delete exactly one character in either string.\n",
    "\n",
    "**Example 1:**\n",
    "\n",
    "**Input:** word1 = \"sea\", word2 = \"eat\"\n",
    "\n",
    "**Output:** 2\n",
    "\n",
    "**Explanation:** You need one step to make \"sea\" to \"ea\" and another step to make \"eat\" to \"ea\".\n",
    "\n",
    "</aside>\n",
    "\n",
    "\"\"\"\n",
    "\n",
    "def min_steps(word1, word2):\n",
    "  \n",
    "  n = len(word1)\n",
    "  m = len(word2)\n",
    "\n",
    "  table = [[0] * (m + 1) for _ in range(n + 1)]\n",
    "\n",
    "  for i in range(1, n + 1):\n",
    "    for j in range(1, m + 1):\n",
    "      if word1[i - 1] == word2[j - 1]:\n",
    "        table[i][j] = table[i - 1][j - 1]\n",
    "      else:\n",
    "        table[i][j] = min(table[i - 1][j] + 1, table[i][j - 1] + 2)\n",
    "\n",
    "  return table[n][m]\n",
    "min_steps(\"sea\", \"eat\")"
   ]
  },
  {
   "cell_type": "code",
   "execution_count": 16,
   "id": "9802fff4-400b-4284-809d-53ee083b0642",
   "metadata": {},
   "outputs": [
    {
     "data": {
      "text/plain": [
       "'\\n<aside>\\n💡 **Question 4**\\n\\nYou need to construct a binary tree from a string consisting of parenthesis and integers.\\n\\nThe whole input represents a binary tree. It contains an integer followed by zero, one or two pairs of parenthesis. The integer represents the root\\'s value and a pair of parenthesis contains a child binary tree with the same structure.\\nYou always start to construct the **left** child node of the parent first if it exists\\n\\n</aside>\\n**Input:** s = \"4(2(3)(1))(6(5))\"\\n\\n**Output:** [4,2,6,3,1,5]\\n'"
      ]
     },
     "execution_count": 16,
     "metadata": {},
     "output_type": "execute_result"
    }
   ],
   "source": [
    "\"\"\"\n",
    "<aside>\n",
    "💡 **Question 4**\n",
    "\n",
    "You need to construct a binary tree from a string consisting of parenthesis and integers.\n",
    "\n",
    "The whole input represents a binary tree. It contains an integer followed by zero, one or two pairs of parenthesis. The integer represents the root's value and a pair of parenthesis contains a child binary tree with the same structure.\n",
    "You always start to construct the **left** child node of the parent first if it exists\n",
    "\n",
    "</aside>\n",
    "**Input:** s = \"4(2(3)(1))(6(5))\"\n",
    "\n",
    "**Output:** [4,2,6,3,1,5]\n",
    "\"\"\"\n",
    "\n"
   ]
  },
  {
   "cell_type": "code",
   "execution_count": 21,
   "id": "94977be5-5d1a-4d92-9ca9-ba15a01f0ba0",
   "metadata": {},
   "outputs": [
    {
     "name": "stdout",
     "output_type": "stream",
     "text": [
      "['a', 'b', '2', 'b', 'c']\n"
     ]
    }
   ],
   "source": [
    "\"\"\"\n",
    "<aside>\n",
    "💡 **Question 5**\n",
    "\n",
    "Given an array of characters chars, compress it using the following algorithm:\n",
    "\n",
    "Begin with an empty string s. For each group of **consecutive repeating characters** in chars:\n",
    "\n",
    "- If the group's length is 1, append the character to s.\n",
    "- Otherwise, append the character followed by the group's length.\n",
    "\n",
    "The compressed string s **should not be returned separately**, but instead, be stored **in the input character array chars**. Note that group lengths that are 10 or longer will be split into multiple characters in chars.\n",
    "\n",
    "After you are done **modifying the input array,** return *the new length of the array*.\n",
    "\n",
    "You must write an algorithm that uses only constant extra space.\n",
    "\n",
    "**Example 1:**\n",
    "\n",
    "**Input:** chars = [\"a\",\"a\",\"b\",\"b\",\"c\",\"c\",\"c\"]\n",
    "\n",
    "**Output:** Return 6, and the first 6 characters of the input array should be: [\"a\",\"2\",\"b\",\"2\",\"c\",\"3\"]\n",
    "\n",
    "**Explanation:**\n",
    "\n",
    "The groups are \"aa\", \"bb\", and \"ccc\". This compresses to \"a2b2c3\".\n",
    "\n",
    "</aside>\n",
    "\"\"\"\n",
    "def compress_chars(chars):\n",
    " \n",
    "  i = 0\n",
    "  count = 1\n",
    "  new_len = 0\n",
    "\n",
    "  while i < len(chars):\n",
    "    if i == 0 or chars[i] != chars[i - 1]:\n",
    "      if count == 1:\n",
    "        chars[new_len] = chars[i]\n",
    "        new_len += 1\n",
    "      else:\n",
    "        chars[new_len] = chars[i]\n",
    "        chars[new_len + 1] = str(count)\n",
    "        new_len += 2\n",
    "      count = 1\n",
    "    else:\n",
    "      count += 1\n",
    "    i += 1\n",
    "\n",
    "  return new_len\n",
    "chars = [\"a\", \"a\", \"b\", \"b\", \"c\", \"c\", \"c\"]\n",
    "new_len = compress_chars(chars)\n",
    "print(chars[:new_len])"
   ]
  },
  {
   "cell_type": "code",
   "execution_count": 34,
   "id": "4a2cfb3b-d506-4e75-b10a-11ca95b2ecb3",
   "metadata": {},
   "outputs": [
    {
     "name": "stdout",
     "output_type": "stream",
     "text": [
      "[0, 6]\n"
     ]
    }
   ],
   "source": [
    "\"\"\"\n",
    "<aside>\n",
    "💡 **Question 6**\n",
    "\n",
    "Given two strings s and p, return *an array of all the start indices of* p*'s anagrams in* s. You may return the answer in **any order**.\n",
    "\n",
    "An **Anagram** is a word or phrase formed by rearranging the letters of a different word or phrase, typically using all the original letters exactly once.\n",
    "\n",
    "**Example 1:**\n",
    "\n",
    "**Input:** s = \"cbaebabacd\", p = \"abc\"\n",
    "\n",
    "**Output:** [0,6]\n",
    "\n",
    "**Explanation:**\n",
    "\n",
    "The substring with start index = 0 is \"cba\", which is an anagram of \"abc\".\n",
    "\n",
    "The substring with start index = 6 is \"bac\", which is an anagram of \"abc\".\n",
    "\n",
    "</aside>\n",
    "\"\"\"\n",
    "\n",
    "from collections import defaultdict\n",
    "\n",
    "def findAnagrams(s, p):\n",
    "    result = []\n",
    "    count_p = defaultdict(int)\n",
    "    count_window = defaultdict(int)\n",
    "    left, right = 0, 0\n",
    "\n",
    "    for char in p:\n",
    "        count_p[char] += 1\n",
    "\n",
    "  \n",
    "    while right < len(s):\n",
    "        count_window[s[right]] += 1\n",
    "\n",
    "        if right >= len(p):\n",
    "           \n",
    "            if count_window[s[left]] == 0:\n",
    "                del count_window[s[left]]\n",
    "            left += 1\n",
    "\n",
    "        if count_p == count_window:\n",
    "            result.append(left)\n",
    "\n",
    "        right += 1\n",
    "\n",
    "    return result\n",
    "s = \"cbaebabacd\"\n",
    "p = \"abc\"\n",
    "print(findAnagrams(s, p))\n",
    "\n"
   ]
  },
  {
   "cell_type": "code",
   "execution_count": 33,
   "id": "949bec9d-8f42-4998-97ed-35d88c8fef6d",
   "metadata": {},
   "outputs": [
    {
     "name": "stdout",
     "output_type": "stream",
     "text": [
      "aaabcbc\n"
     ]
    }
   ],
   "source": [
    "\"\"\"\n",
    "<aside>\n",
    "💡 **Question 7**\n",
    "\n",
    "Given an encoded string, return its decoded string.\n",
    "\n",
    "The encoding rule is: k[encoded_string], where the encoded_string inside the square brackets is being repeated exactly k times. Note that k is guaranteed to be a positive integer.\n",
    "\n",
    "You may assume that the input string is always valid; there are no extra white spaces, square brackets are well-formed, etc. Furthermore, you may assume that the original data does not contain any digits and that digits are only for those repeat numbers, k. For example, there will not be input like 3a or 2[4].\n",
    "\n",
    "The test cases are generated so that the length of the output will never exceed 105.\n",
    "\n",
    "**Example 1:**\n",
    "\n",
    "**Input:** s = \"3[a]2[bc]\"\n",
    "\n",
    "**Output:** \"aaabcbc\"\n",
    "\n",
    "</aside>\n",
    "\"\"\"\n",
    "def decodeString(s):\n",
    "    stack = []\n",
    "    curr_str = ''\n",
    "    curr_num = 0\n",
    "\n",
    "    for char in s:\n",
    "        if char.isdigit():\n",
    "            curr_num = curr_num * 10 + int(char)\n",
    "        elif char == '[':\n",
    "            stack.append(curr_str)\n",
    "            stack.append(curr_num)\n",
    "            curr_str = ''\n",
    "            curr_num = 0\n",
    "        elif char == ']':\n",
    "            num = stack.pop()\n",
    "            prev_str = stack.pop()\n",
    "            curr_str = prev_str + num * curr_str\n",
    "        else:\n",
    "            curr_str += char\n",
    "\n",
    "    return curr_str\n",
    "s = \"3[a]2[bc]\"\n",
    "print(decodeString(s))\n",
    "\n"
   ]
  },
  {
   "cell_type": "code",
   "execution_count": 43,
   "id": "ea89a167-9686-41c5-bc3c-9da52d34312c",
   "metadata": {},
   "outputs": [
    {
     "data": {
      "text/plain": [
       "'\\n<aside>\\n💡 **Question 8**\\n\\nGiven two strings s and goal, return true *if you can swap two letters in* s *so the result is equal to* goal*, otherwise, return* false*.*\\n\\nSwapping letters is defined as taking two indices i and j (0-indexed) such that i != j and swapping the characters at s[i] and s[j].\\n\\n- For example, swapping at indices 0 and 2 in \"abcd\" results in \"cbad\".\\n\\n**Example 1:**\\n\\n**Input:** s = \"ab\", goal = \"ba\"\\n\\n**Output:** true\\n\\n**Explanation:** You can swap s[0] = \\'a\\' and s[1] = \\'b\\' to get \"ba\", which is equal to goal.\\n\\n</aside>\\n\\n'"
      ]
     },
     "execution_count": 43,
     "metadata": {},
     "output_type": "execute_result"
    }
   ],
   "source": [
    "\"\"\"\n",
    "<aside>\n",
    "💡 **Question 8**\n",
    "\n",
    "Given two strings s and goal, return true *if you can swap two letters in* s *so the result is equal to* goal*, otherwise, return* false*.*\n",
    "\n",
    "Swapping letters is defined as taking two indices i and j (0-indexed) such that i != j and swapping the characters at s[i] and s[j].\n",
    "\n",
    "- For example, swapping at indices 0 and 2 in \"abcd\" results in \"cbad\".\n",
    "\n",
    "**Example 1:**\n",
    "\n",
    "**Input:** s = \"ab\", goal = \"ba\"\n",
    "\n",
    "**Output:** true\n",
    "\n",
    "**Explanation:** You can swap s[0] = 'a' and s[1] = 'b' to get \"ba\", which is equal to goal.\n",
    "\n",
    "</aside>\n",
    "\n",
    "\"\"\"\n",
    "\n",
    "\n",
    "\n",
    "\n"
   ]
  },
  {
   "cell_type": "code",
   "execution_count": null,
   "id": "c0c1267d-0852-4da1-b26b-d7197365a800",
   "metadata": {},
   "outputs": [],
   "source": []
  },
  {
   "cell_type": "code",
   "execution_count": null,
   "id": "72d543cb-3aca-4fee-ac7f-7d13e9af99af",
   "metadata": {},
   "outputs": [],
   "source": []
  }
 ],
 "metadata": {
  "kernelspec": {
   "display_name": "Python 3 (ipykernel)",
   "language": "python",
   "name": "python3"
  },
  "language_info": {
   "codemirror_mode": {
    "name": "ipython",
    "version": 3
   },
   "file_extension": ".py",
   "mimetype": "text/x-python",
   "name": "python",
   "nbconvert_exporter": "python",
   "pygments_lexer": "ipython3",
   "version": "3.10.8"
  }
 },
 "nbformat": 4,
 "nbformat_minor": 5
}
