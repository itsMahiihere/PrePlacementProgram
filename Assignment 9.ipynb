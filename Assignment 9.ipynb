{
 "cells": [
  {
   "cell_type": "code",
   "execution_count": 2,
   "id": "6987c5a6-c8c6-43a4-b708-7c347560dbf2",
   "metadata": {},
   "outputs": [
    {
     "name": "stdout",
     "output_type": "stream",
     "text": [
      "[1, 2]\n"
     ]
    }
   ],
   "source": [
    "## Q1. Ans:-\n",
    "\n",
    "def two_sum(numbers, target):\n",
    "    index1, index2 = 0, len(numbers) - 1\n",
    "\n",
    "    while index1 < index2:\n",
    "        current_sum = numbers[index1] + numbers[index2]\n",
    "\n",
    "        if current_sum == target:\n",
    "            return [index1 + 1, index2 + 1] \n",
    "        if current_sum < target:\n",
    "            index1 += 1\n",
    "        else:\n",
    "            index2 -= 1\n",
    "\n",
    "    return []\n",
    "\n",
    "numbers = [2, 7, 11, 15]\n",
    "target = 9\n",
    "print(two_sum(numbers, target)) \n"
   ]
  },
  {
   "cell_type": "code",
   "execution_count": null,
   "id": "f128c947-df38-4af6-bed0-0832b8e4b672",
   "metadata": {},
   "outputs": [],
   "source": [
    "## Q2. Ans:-\n",
    "\n",
    "def find_target_range(nums, target):\n",
    "    def find_leftmost_target(nums, target):\n",
    "        left, right = 0, len(nums) - 1\n",
    "        while left <= right:\n",
    "            mid = left + (right - left) // 2\n",
    "            if nums[mid] < target:\n",
    "                left = mid + 1\n",
    "            else:\n",
    "                right = mid - 1\n",
    "        return left\n",
    "\n",
    "    def find_rightmost_target(nums, target):\n",
    "        left, right = 0, len(nums) - 1\n",
    "        while left <= right:\n",
    "            mid = left + (right - left) // 2\n",
    "            if nums[mid] <= target:\n",
    "                left = mid + 1\n",
    "            else:\n",
    "                right = mid - 1\n",
    "        return right\n",
    "\n",
    "    left_index = find_leftmost_target(nums, target)\n",
    "    right_index = find_rightmost_target(nums, target)\n",
    "\n",
    "    if left_index <= right_index:\n",
    "        return [left_index, right_index]\n",
    "    else:\n",
    "        return [-1, -1]\n",
    "\n",
    "nums = [5, 7, 7, 8, 8, 10]\n",
    "target = 8\n",
    "print(find_target_range(nums, target)) \n"
   ]
  },
  {
   "cell_type": "code",
   "execution_count": 3,
   "id": "d3464e8d-261e-4d95-a437-edf5aae6a303",
   "metadata": {},
   "outputs": [
    {
     "name": "stdout",
     "output_type": "stream",
     "text": [
      "2\n"
     ]
    }
   ],
   "source": [
    "## Q3 Ans:-\n",
    "\n",
    "def find_peak_element(nums):\n",
    "    left, right = 0, len(nums) - 1\n",
    "\n",
    "    while left < right:\n",
    "        mid = left + (right - left) // 2\n",
    "\n",
    "        if nums[mid] < nums[mid + 1]:\n",
    "          \n",
    "            left = mid + 1\n",
    "        else:\n",
    "    \n",
    "            right = mid\n",
    "\n",
    "    return left\n",
    "\n",
    "nums = [1, 2, 3, 1]\n",
    "print(find_peak_element(nums))  "
   ]
  },
  {
   "cell_type": "code",
   "execution_count": 5,
   "id": "2186ef67-80e6-4773-a40e-27bd06d46fa6",
   "metadata": {},
   "outputs": [
    {
     "name": "stdout",
     "output_type": "stream",
     "text": [
      "2\n",
      "4\n"
     ]
    }
   ],
   "source": [
    "## Q4 Ans:-\n",
    "\n",
    "def search_insert(nums, target):\n",
    "    left, right = 0, len(nums) - 1\n",
    "\n",
    "    while left <= right:\n",
    "        mid = left + (right - left) // 2\n",
    "\n",
    "        if nums[mid] == target:\n",
    "            return mid\n",
    "\n",
    "        if nums[mid] < target:\n",
    "            left = mid + 1\n",
    "        else:\n",
    "            right = mid - 1\n",
    "\n",
    "    return left\n",
    "\n",
    "nums = [1, 3, 5, 6]\n",
    "target = 5\n",
    "print(search_insert(nums, target))  \n",
    "\n",
    "target = 7\n",
    "print(search_insert(nums, target))  \n"
   ]
  },
  {
   "cell_type": "code",
   "execution_count": 6,
   "id": "16f9d115-fbfb-4990-b266-d3f4349bd198",
   "metadata": {},
   "outputs": [
    {
     "name": "stdout",
     "output_type": "stream",
     "text": [
      "4\n"
     ]
    }
   ],
   "source": [
    "## Q5. Ans:-\n",
    "\n",
    "def find_majority_element(nums):\n",
    "    candidate = None\n",
    "    count = 0\n",
    "\n",
    "    for num in nums:\n",
    "        if count == 0:\n",
    "            candidate = num\n",
    "        if num == candidate:\n",
    "            count += 1\n",
    "        else:\n",
    "            count -= 1\n",
    "\n",
    "    count_candidate = nums.count(candidate)\n",
    "    if count_candidate > len(nums) // 2:\n",
    "        return candidate\n",
    "    else:\n",
    "        return None\n",
    "    \n",
    "A = [3, 3, 4, 2, 4, 4, 2, 4, 4]\n",
    "print(find_majority_element(A))\n"
   ]
  },
  {
   "cell_type": "code",
   "execution_count": 7,
   "id": "d4a0d6d3-7921-4e35-86e4-8fc60c42d306",
   "metadata": {},
   "outputs": [
    {
     "name": "stdout",
     "output_type": "stream",
     "text": [
      "3\n"
     ]
    }
   ],
   "source": [
    "## Q7. Ans:- \n",
    "\n",
    "def merge_and_count_inversions(left, right):\n",
    "    merged = []\n",
    "    count = 0\n",
    "    i, j = 0, 0\n",
    "\n",
    "    while i < len(left) and j < len(right):\n",
    "        if left[i] <= right[j]:\n",
    "            merged.append(left[i])\n",
    "            i += 1\n",
    "        else:\n",
    "            merged.append(right[j])\n",
    "            j += 1\n",
    "            count += len(left) - i \n",
    "\n",
    "    merged.extend(left[i:])\n",
    "    merged.extend(right[j:])\n",
    "    return merged, count\n",
    "\n",
    "def count_inversions(arr):\n",
    "    if len(arr) <= 1:\n",
    "        return arr, 0\n",
    "\n",
    "    mid = len(arr) // 2\n",
    "    left, count_left = count_inversions(arr[:mid])\n",
    "    right, count_right = count_inversions(arr[mid:])\n",
    "    merged, count_merge = merge_and_count_inversions(left, right)\n",
    "\n",
    "    return merged, count_left + count_right + count_merge\n",
    "\n",
    "\n",
    "arr = [2, 4, 1, 3, 5]\n",
    "_, inversions = count_inversions(arr)\n",
    "print(inversions) \n"
   ]
  },
  {
   "cell_type": "code",
   "execution_count": 9,
   "id": "5f01b3f8-b995-4714-9bd8-42f2a84d322b",
   "metadata": {},
   "outputs": [
    {
     "name": "stdout",
     "output_type": "stream",
     "text": [
      "20, 80\n"
     ]
    }
   ],
   "source": [
    "## Q8 Ans:-\n",
    "\n",
    "def find_common_elements(ar1, ar2, ar3):\n",
    "    result = []\n",
    "    n1, n2, n3 = len(ar1), len(ar2), len(ar3)\n",
    "    i, j, k = 0, 0, 0\n",
    "\n",
    "    while i < n1 and j < n2 and k < n3:\n",
    "        if ar1[i] == ar2[j] == ar3[k]:\n",
    "            result.append(ar1[i])\n",
    "            i += 1\n",
    "            j += 1\n",
    "            k += 1\n",
    "        elif ar1[i] < ar2[j]:\n",
    "            i += 1\n",
    "        elif ar2[j] < ar3[k]:\n",
    "            j += 1\n",
    "        else:\n",
    "            k += 1\n",
    "\n",
    "    return result\n",
    "\n",
    "ar1 = [1, 5, 10, 20, 40, 80]\n",
    "ar2 = [6, 7, 20, 80, 100]\n",
    "ar3 = [3, 4, 15, 20, 30, 70, 80, 120]\n",
    "result = find_common_elements(ar1, ar2, ar3)\n",
    "print(\", \".join(map(str, result)))  \n",
    "\n"
   ]
  },
  {
   "cell_type": "code",
   "execution_count": null,
   "id": "d0fc0b42-3d50-4569-830a-438aa472ab29",
   "metadata": {},
   "outputs": [],
   "source": []
  }
 ],
 "metadata": {
  "kernelspec": {
   "display_name": "Python 3 (ipykernel)",
   "language": "python",
   "name": "python3"
  },
  "language_info": {
   "codemirror_mode": {
    "name": "ipython",
    "version": 3
   },
   "file_extension": ".py",
   "mimetype": "text/x-python",
   "name": "python",
   "nbconvert_exporter": "python",
   "pygments_lexer": "ipython3",
   "version": "3.10.8"
  }
 },
 "nbformat": 4,
 "nbformat_minor": 5
}
