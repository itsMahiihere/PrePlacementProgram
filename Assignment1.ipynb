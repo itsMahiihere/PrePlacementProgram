{
 "cells": [
  {
   "cell_type": "code",
   "execution_count": 1,
   "id": "84406fa5-d1ba-4749-9a5d-c0495775073a",
   "metadata": {},
   "outputs": [
    {
     "name": "stdout",
     "output_type": "stream",
     "text": [
      "[0, 1]\n"
     ]
    }
   ],
   "source": [
    "## Q.1 Ans:-\n",
    "\n",
    "\n",
    "def two_sum(nums, target):\n",
    "    num_dict = {}  # Dictionary to store the numbers and their indices\n",
    "    \n",
    "    for i, num in enumerate(nums):\n",
    "        complement = target - num\n",
    "        \n",
    "        # Check if the complement exists in the dictionary\n",
    "        if complement in num_dict:\n",
    "            return [num_dict[complement], i]\n",
    "        \n",
    "        # Add the number and its index to the dictionary\n",
    "        num_dict[num] = i\n",
    "    \n",
    "    # If no solution is found, return an empty list or handle it as desired\n",
    "    return []\n",
    "\n",
    "# Example usage\n",
    "nums = [2, 7, 11, 15]\n",
    "target = 9\n",
    "result = two_sum(nums, target)\n",
    "print(result) "
   ]
  },
  {
   "cell_type": "code",
   "execution_count": 5,
   "id": "c0797f35-ef9c-4e5c-bfde-4f94f6b876d9",
   "metadata": {},
   "outputs": [
    {
     "name": "stdout",
     "output_type": "stream",
     "text": [
      "2\n",
      "[2, 2, 2, 3]\n"
     ]
    }
   ],
   "source": [
    "## Q2.\n",
    "\n",
    "def remove_element(nums, val):\n",
    "    left = 0  # Left pointer\n",
    "    \n",
    "    for right in range(len(nums)):\n",
    "        if nums[right] != val:\n",
    "            nums[left] = nums[right]\n",
    "            left += 1\n",
    "    \n",
    "    return left\n",
    "\n",
    "# Example usage\n",
    "nums = [3, 2, 2, 3]\n",
    "val = 3\n",
    "k = remove_element(nums, val)\n",
    "print(k)      # Output: 2\n",
    "print(nums)  \n"
   ]
  },
  {
   "cell_type": "code",
   "execution_count": 9,
   "id": "b2c9d93a-6316-46b4-930e-73634bf5b921",
   "metadata": {},
   "outputs": [
    {
     "name": "stdout",
     "output_type": "stream",
     "text": [
      "2\n"
     ]
    }
   ],
   "source": [
    "## Q3.\n",
    "\n",
    "def search_insert(nums, target):\n",
    "    left, right = 0, len(nums) - 1\n",
    "    \n",
    "    while left <= right:\n",
    "        mid = left + (right - left) // 2\n",
    "        \n",
    "        if nums[mid] == target:\n",
    "            return mid\n",
    "        \n",
    "        if nums[mid] < target:\n",
    "            left = mid + 1\n",
    "        else:\n",
    "            right = mid - 1\n",
    "    \n",
    "    return left\n",
    "\n",
    "# Example usage\n",
    "nums = [1, 3, 5, 6]\n",
    "target = 5\n",
    "index = search_insert(nums, target)\n",
    "print(index) "
   ]
  },
  {
   "cell_type": "code",
   "execution_count": 10,
   "id": "9e9eac73-1f4e-44fd-a471-c5c40e282030",
   "metadata": {},
   "outputs": [
    {
     "name": "stdout",
     "output_type": "stream",
     "text": [
      "[1, 2, 4]\n"
     ]
    }
   ],
   "source": [
    "## Q4.\n",
    "\n",
    "def plus_one(digits):\n",
    "    n = len(digits)\n",
    "    carry = 1\n",
    "\n",
    "    for i in range(n - 1, -1, -1):\n",
    "        digits[i] += carry\n",
    "        carry = digits[i] // 10\n",
    "        digits[i] %= 10\n",
    "\n",
    "        if carry == 0:\n",
    "            break\n",
    "\n",
    "    if carry == 1:\n",
    "        digits.insert(0, carry)\n",
    "\n",
    "    return digits\n",
    "\n",
    "# Example usage\n",
    "digits = [1, 2, 3]\n",
    "result = plus_one(digits)\n",
    "print(result) "
   ]
  },
  {
   "cell_type": "code",
   "execution_count": 1,
   "id": "0c8e53fd-624b-403d-968f-5157980da220",
   "metadata": {},
   "outputs": [
    {
     "name": "stdout",
     "output_type": "stream",
     "text": [
      "[1, 2, 2, 3, 5, 6]\n"
     ]
    }
   ],
   "source": [
    "# Q5.\n",
    "\n",
    "def merge(nums1, m, nums2, n):\n",
    "    i = m - 1  # Index of last element in nums1\n",
    "    j = n - 1  # Index of last element in nums2\n",
    "    k = m + n - 1  # Index of last position in merged array\n",
    "    \n",
    "    while i >= 0 and j >= 0:\n",
    "        if nums1[i] > nums2[j]:\n",
    "            nums1[k] = nums1[i]\n",
    "            i -= 1\n",
    "        else:\n",
    "            nums1[k] = nums2[j]\n",
    "            j -= 1\n",
    "        k -= 1\n",
    "    \n",
    "    # If there are remaining elements in nums2, copy them to nums1\n",
    "    while j >= 0:\n",
    "        nums1[k] = nums2[j]\n",
    "        j -= 1\n",
    "        k -= 1\n",
    "\n",
    "# Example usage\n",
    "nums1 = [1, 2, 3, 0, 0, 0]\n",
    "m = 3\n",
    "nums2 = [2, 5, 6]\n",
    "n = 3\n",
    "merge(nums1, m, nums2, n)\n",
    "print(nums1)  \n",
    " "
   ]
  },
  {
   "cell_type": "code",
   "execution_count": 4,
   "id": "2d335d82-dbf0-4bb0-9868-7229cfbd4471",
   "metadata": {},
   "outputs": [
    {
     "name": "stdout",
     "output_type": "stream",
     "text": [
      "True\n"
     ]
    }
   ],
   "source": [
    "# Q6.\n",
    "# funtion defination \n",
    "def contains_duplicate(nums):\n",
    "    nums.sort()\n",
    "    \n",
    "    for num in range(1,len(nums)):\n",
    "        if nums[num]==nums[num-1]:\n",
    "            return True\n",
    "        \n",
    "    return False    \n",
    "    \n",
    "    \n",
    "# driver code \n",
    "nums=[1,2,3,1]\n",
    "# funtion calling\n",
    "result=contains_duplicate(nums)\n",
    "print(result)"
   ]
  },
  {
   "cell_type": "code",
   "execution_count": 8,
   "id": "adc71eed-c5ba-4c6f-a3f9-d013b93f10d8",
   "metadata": {},
   "outputs": [
    {
     "name": "stdout",
     "output_type": "stream",
     "text": [
      "[1, 3, 12, 0, 0]\n"
     ]
    }
   ],
   "source": [
    "# Q7.\n",
    "# funtion defination\n",
    "def move_zeros(nums):\n",
    "    left=0\n",
    "    \n",
    "    for right in range(len(nums)):\n",
    "        if nums[right]!=0:\n",
    "            nums[left],nums[right]=nums[right],nums[left]\n",
    "            left+=1\n",
    "\n",
    "# Driver code\n",
    "\n",
    "nums=[0,1,0,3,12]\n",
    "# funtion calling\n",
    "move_zeros(nums)\n",
    "print(nums)"
   ]
  },
  {
   "cell_type": "code",
   "execution_count": 9,
   "id": "c5fd77e0-c7c3-4594-ba1b-7f475c9afa4e",
   "metadata": {},
   "outputs": [
    {
     "name": "stdout",
     "output_type": "stream",
     "text": [
      "[2, 3]\n"
     ]
    }
   ],
   "source": [
    "# Q8.\n",
    "\n",
    "def find_error_nums(nums):\n",
    "    n = len(nums)\n",
    "    num_set = set()\n",
    "    duplicate_num = -1\n",
    "\n",
    "    for num in nums:\n",
    "        if num in num_set:\n",
    "            duplicate_num = num\n",
    "        num_set.add(num)\n",
    "\n",
    "    missing_num = None\n",
    "    for i in range(1, n + 1):\n",
    "        if i not in num_set:\n",
    "            missing_num = i\n",
    "            break\n",
    "\n",
    "    return [duplicate_num, missing_num]\n",
    "\n",
    "# Example usage\n",
    "nums = [1, 2, 2, 4]\n",
    "result = find_error_nums(nums)\n",
    "print(result)  \n"
   ]
  },
  {
   "cell_type": "code",
   "execution_count": null,
   "id": "695aa261-9657-40bc-9957-f8be67dac4f3",
   "metadata": {},
   "outputs": [],
   "source": []
  }
 ],
 "metadata": {
  "kernelspec": {
   "display_name": "Python 3 (ipykernel)",
   "language": "python",
   "name": "python3"
  },
  "language_info": {
   "codemirror_mode": {
    "name": "ipython",
    "version": 3
   },
   "file_extension": ".py",
   "mimetype": "text/x-python",
   "name": "python",
   "nbconvert_exporter": "python",
   "pygments_lexer": "ipython3",
   "version": "3.10.8"
  }
 },
 "nbformat": 4,
 "nbformat_minor": 5
}
